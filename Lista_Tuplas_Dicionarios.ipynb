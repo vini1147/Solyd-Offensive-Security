{
  "nbformat": 4,
  "nbformat_minor": 0,
  "metadata": {
    "colab": {
      "provenance": [],
      "authorship_tag": "ABX9TyOSsOpM46p44r2ncmUVG78P",
      "include_colab_link": true
    },
    "kernelspec": {
      "name": "python3",
      "display_name": "Python 3"
    },
    "language_info": {
      "name": "python"
    }
  },
  "cells": [
    {
      "cell_type": "markdown",
      "metadata": {
        "id": "view-in-github",
        "colab_type": "text"
      },
      "source": [
        "<a href=\"https://colab.research.google.com/github/vini1147/Solyd-Offensive-Security/blob/main/Lista_Tuplas_Dicionarios.ipynb\" target=\"_parent\"><img src=\"https://colab.research.google.com/assets/colab-badge.svg\" alt=\"Open In Colab\"/></a>"
      ]
    },
    {
      "cell_type": "code",
      "execution_count": 3,
      "metadata": {
        "id": "r8uw59xBzS_o"
      },
      "outputs": [],
      "source": [
        "minha_lista = ['Gui','Joao'] # LISTA\n",
        "minha_tupla = ('Gui','Joao') # TUPLA\n",
        "meu_dicionario = {'nome':'Gui','idade':27} # DICIONARIO\n",
        "meu_conjunto = {'Gui','Joao'}"
      ]
    },
    {
      "cell_type": "code",
      "source": [
        "meu_dicionario['nome'] = 'Vinicius'\n",
        "meu_dicionario"
      ],
      "metadata": {
        "id": "5RDLZmrkP9IM",
        "outputId": "5fcf906b-94b7-4305-f394-7e771eb9869e",
        "colab": {
          "base_uri": "https://localhost:8080/"
        }
      },
      "execution_count": 12,
      "outputs": [
        {
          "output_type": "execute_result",
          "data": {
            "text/plain": [
              "{'nome': 'Vinicius', 'idade': 27}"
            ]
          },
          "metadata": {},
          "execution_count": 12
        }
      ]
    },
    {
      "cell_type": "code",
      "source": [
        "meu_dicionario['bairro'] = 'Sobradinho'"
      ],
      "metadata": {
        "id": "V7VwfSqHQ_Qm"
      },
      "execution_count": 14,
      "outputs": []
    },
    {
      "cell_type": "code",
      "source": [
        "meu_dicionario"
      ],
      "metadata": {
        "id": "GB4hcojWT1jK",
        "outputId": "d4d7975e-fb2d-4137-931d-4820a93063e0",
        "colab": {
          "base_uri": "https://localhost:8080/"
        }
      },
      "execution_count": 15,
      "outputs": [
        {
          "output_type": "execute_result",
          "data": {
            "text/plain": [
              "{'nome': 'Vinicius', 'idade': 27, 'bairro': 'Sobradinho'}"
            ]
          },
          "metadata": {},
          "execution_count": 15
        }
      ]
    },
    {
      "cell_type": "code",
      "source": [
        "outraIdade = 25\n",
        "age = 36\n",
        "txt = \"My name is John, and I am {}{}\"\n",
        "print(txt.format(age,outraIdade))"
      ],
      "metadata": {
        "id": "sMFV7GenZa45",
        "outputId": "26ed4986-d334-48f7-c913-5956af5381c9",
        "colab": {
          "base_uri": "https://localhost:8080/"
        }
      },
      "execution_count": 20,
      "outputs": [
        {
          "output_type": "stream",
          "name": "stdout",
          "text": [
            "My name is John, and I am 3625\n"
          ]
        }
      ]
    },
    {
      "cell_type": "code",
      "source": [
        "fruits = [\"apple\", \"banana\", \"cherry\"]\n",
        "# Inserir a palavara \"Limão\" no segundo item da lista\n",
        "fruits.insert(1,\"lemon\")\n",
        "fruits"
      ],
      "metadata": {
        "id": "bXRbvBC9bogr",
        "outputId": "f63be0a4-0cc7-4cfc-92c4-e041b585baa5",
        "colab": {
          "base_uri": "https://localhost:8080/"
        }
      },
      "execution_count": 22,
      "outputs": [
        {
          "output_type": "execute_result",
          "data": {
            "text/plain": [
              "['apple', 'lemon', 'banana', 'cherry']"
            ]
          },
          "metadata": {},
          "execution_count": 22
        }
      ]
    },
    {
      "cell_type": "code",
      "source": [
        "# Remover item da lista\n",
        "fruits = [\"apple\", \"banana\", \"cherry\"]\n",
        "fruits.remove(\"banana\")\n",
        "fruits"
      ],
      "metadata": {
        "id": "NJ_swTUCcIsD",
        "outputId": "1fb55f05-0a2e-4c21-eaa9-c345a4ccbc3a",
        "colab": {
          "base_uri": "https://localhost:8080/"
        }
      },
      "execution_count": 23,
      "outputs": [
        {
          "output_type": "execute_result",
          "data": {
            "text/plain": [
              "['apple', 'cherry']"
            ]
          },
          "metadata": {},
          "execution_count": 23
        }
      ]
    },
    {
      "cell_type": "code",
      "source": [
        "fruits = {\"apple\", \"banana\", \"cherry\"}\n",
        "more_fruits = [\"orange\", \"mango\", \"grapes\"]\n",
        "fruits.update(more_fruits)\n",
        "more_fruits"
      ],
      "metadata": {
        "id": "n0J5WncFdgSp",
        "outputId": "0b009046-8f3b-4a83-8451-f7c8502018c1",
        "colab": {
          "base_uri": "https://localhost:8080/"
        }
      },
      "execution_count": 25,
      "outputs": [
        {
          "output_type": "execute_result",
          "data": {
            "text/plain": [
              "['orange', 'mango', 'grapes']"
            ]
          },
          "metadata": {},
          "execution_count": 25
        }
      ]
    },
    {
      "cell_type": "code",
      "source": [
        "fruits = {\"apple\", \"banana\", \"cherry\"}\n",
        "fruits.discard(\"banana\")\n",
        "fruits"
      ],
      "metadata": {
        "id": "1a7wZDcseF1d",
        "outputId": "f3546a3f-5b89-4e38-ac8a-9a8dd8c6bedf",
        "colab": {
          "base_uri": "https://localhost:8080/"
        }
      },
      "execution_count": 27,
      "outputs": [
        {
          "output_type": "execute_result",
          "data": {
            "text/plain": [
              "{'apple', 'cherry'}"
            ]
          },
          "metadata": {},
          "execution_count": 27
        }
      ]
    },
    {
      "cell_type": "code",
      "source": [
        "car =\t{\n",
        "  \"brand\": \"Ford\",\n",
        "  \"model\": \"Mustang\",\n",
        "  \"year\": 1964\n",
        "}\n",
        "print(\n",
        "car.get(\"model\")\n",
        ")"
      ],
      "metadata": {
        "id": "CjCyJH5KeIkE",
        "outputId": "00fcc324-f342-4ddc-f325-4ae15480c5cf",
        "colab": {
          "base_uri": "https://localhost:8080/"
        }
      },
      "execution_count": 28,
      "outputs": [
        {
          "output_type": "stream",
          "name": "stdout",
          "text": [
            "Mustang\n"
          ]
        }
      ]
    }
  ]
}